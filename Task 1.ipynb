{
 "cells": [
  {
   "cell_type": "code",
   "execution_count": 1,
   "metadata": {},
   "outputs": [
    {
     "name": "stdout",
     "output_type": "stream",
     "text": [
      "{'person': 2, 'cat': 4, 'spider': 8, 'horse': 4}\n",
      "person 2\n",
      "cat 4\n",
      "spider 8\n",
      "horse 4\n",
      "total legs: 18\n"
     ]
    }
   ],
   "source": [
    "#Dictionaries:\n",
    "dic={}\n",
    "#Add data as key-value pairs:\n",
    "dic['person']=2\n",
    "dic['cat']=4\n",
    "dic['spider']=8\n",
    "dic['horse']=4\n",
    "print(dic)\n",
    "#use items() method to loop over dictionary:\n",
    "for key, value in dic.items():\n",
    "    print(key, value)\n",
    "#sum of legs:\n",
    "sum=0\n",
    "for i in dic.values():\n",
    "    sum=sum+i\n",
    "print(\"total legs:\", sum)"
   ]
  },
  {
   "cell_type": "code",
   "execution_count": 10,
   "metadata": {},
   "outputs": [
    {
     "name": "stdout",
     "output_type": "stream",
     "text": [
      "[27, 64, 343, 512, 3375]\n"
     ]
    }
   ],
   "source": [
    "#List:\n",
    "nums=[3,4,7,8,15]\n",
    "cubes=[]\n",
    "for i in nums:\n",
    "    cubes.append(i*i*i)\n",
    "print(cubes)"
   ]
  },
  {
   "cell_type": "code",
   "execution_count": 1,
   "metadata": {},
   "outputs": [
    {
     "name": "stdout",
     "output_type": "stream",
     "text": [
      "original tuple: (1, 15, 4, [5, 10])\n",
      "updated tuple: (1, 15, 4, (3, 10))\n",
      "('a', 'p', 'p', 'l', 'e')\n",
      "occurences of p: 2\n",
      "Index of l is: 3\n"
     ]
    }
   ],
   "source": [
    "#Tuples:\n",
    "D=(1,15,4,[5,10])\n",
    "print(\"original tuple:\", D)\n",
    "#changing value in list from 5to3:\n",
    "val= list(D)\n",
    "val[3]=3,10\n",
    "D=tuple(val)\n",
    "print(\"updated tuple:\", D)\n",
    "#Delete the tuple D:\n",
    "del D\n",
    "#Another Tuple:\n",
    "E= ('a','p','p','l','e')\n",
    "print(E)\n",
    "#number of occurences:\n",
    "count= E.count('p')\n",
    "print(\"occurences of p:\", count)\n",
    "#index of l:\n",
    "index= E.index('l')\n",
    "print(\"Index of l is:\", index)\n"
   ]
  }
 ],
 "metadata": {
  "kernelspec": {
   "display_name": "Python 3.9.7 ('base')",
   "language": "python",
   "name": "python3"
  },
  "language_info": {
   "codemirror_mode": {
    "name": "ipython",
    "version": 3
   },
   "file_extension": ".py",
   "mimetype": "text/x-python",
   "name": "python",
   "nbconvert_exporter": "python",
   "pygments_lexer": "ipython3",
   "version": "3.9.7"
  },
  "orig_nbformat": 4,
  "vscode": {
   "interpreter": {
    "hash": "65ea54c170e3a9982d7db2d42da73f78c9d0ca568b8b7dc4612ee4ac3dd1e630"
   }
  }
 },
 "nbformat": 4,
 "nbformat_minor": 2
}
