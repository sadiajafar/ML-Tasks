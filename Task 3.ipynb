{
 "cells": [
  {
   "cell_type": "code",
   "execution_count": 33,
   "metadata": {},
   "outputs": [
    {
     "name": "stdout",
     "output_type": "stream",
     "text": [
      "The velocity is: 5.0\n"
     ]
    }
   ],
   "source": [
    "#Calculate the velocity using compute function:\n",
    "distance=20\n",
    "time=4\n",
    "print(\"The velocity is:\", compute(distance, time))"
   ]
  },
  {
   "cell_type": "code",
   "execution_count": 30,
   "metadata": {},
   "outputs": [
    {
     "name": "stdout",
     "output_type": "stream",
     "text": [
      "Sum of even numbers is: 72\n"
     ]
    }
   ],
   "source": [
    "#Sum of even numbers:\n",
    "even=[2,4,6,8,10,12,14,16]\n",
    "s=0\n",
    "for i in even:\n",
    "    s=s+i\n",
    "print(\"Sum of even numbers is:\",s)\n"
   ]
  }
 ],
 "metadata": {
  "kernelspec": {
   "display_name": "Python 3.9.7 ('base')",
   "language": "python",
   "name": "python3"
  },
  "language_info": {
   "codemirror_mode": {
    "name": "ipython",
    "version": 3
   },
   "file_extension": ".py",
   "mimetype": "text/x-python",
   "name": "python",
   "nbconvert_exporter": "python",
   "pygments_lexer": "ipython3",
   "version": "3.9.7"
  },
  "orig_nbformat": 4,
  "vscode": {
   "interpreter": {
    "hash": "65ea54c170e3a9982d7db2d42da73f78c9d0ca568b8b7dc4612ee4ac3dd1e630"
   }
  }
 },
 "nbformat": 4,
 "nbformat_minor": 2
}
