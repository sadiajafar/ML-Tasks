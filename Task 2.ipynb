{
 "cells": [
  {
   "cell_type": "code",
   "execution_count": 27,
   "metadata": {},
   "outputs": [
    {
     "name": "stdout",
     "output_type": "stream",
     "text": [
      "[ 1  2  3  4  5  6  7  8  9 10 11 12]\n"
     ]
    }
   ],
   "source": [
    "#Numpy:\n",
    "#convert matrix into numpy array:\n",
    "import numpy as np\n",
    "M= np.array([[1,2,3,4],[5,6,7,8],[9,10,11,12]])\n",
    "print(arr.flatten())"
   ]
  },
  {
   "cell_type": "code",
   "execution_count": 84,
   "metadata": {},
   "outputs": [
    {
     "data": {
      "text/plain": [
       "array([[1, 2],\n",
       "       [5, 6]])"
      ]
     },
     "execution_count": 84,
     "metadata": {},
     "output_type": "execute_result"
    }
   ],
   "source": [
    "#Slicing to pull out subarray of 2*2:\n",
    "b= np.array([[1,2,3,4],[5,6,7,8],[9,10,11,12]])\n",
    "b[:2,:2]"
   ]
  },
  {
   "cell_type": "code",
   "execution_count": 71,
   "metadata": {},
   "outputs": [
    {
     "data": {
      "text/plain": [
       "array([], shape=(0, 4), dtype=float64)"
      ]
     },
     "execution_count": 71,
     "metadata": {},
     "output_type": "execute_result"
    }
   ],
   "source": [
    "#create an empty matrix:\n",
    "y= np.empty((0,4))\n",
    "y"
   ]
  },
  {
   "cell_type": "code",
   "execution_count": 77,
   "metadata": {},
   "outputs": [
    {
     "name": "stdout",
     "output_type": "stream",
     "text": [
      "[[ 2  2  4]\n",
      " [ 5  5  7]\n",
      " [ 8  8 10]\n",
      " [11 11 13]]\n"
     ]
    }
   ],
   "source": [
    "#add vector z to each col:\n",
    "import numpy as np\n",
    "M=np.array([[1,2,3],[4,5,6],[7,8,9],[10,11,12]])\n",
    "z=np.array([1,0,1])\n",
    "for i in range(4):\n",
    "    y[i,:]= M[i,:]+z\n",
    "print(y)"
   ]
  },
  {
   "cell_type": "code",
   "execution_count": 49,
   "metadata": {},
   "outputs": [
    {
     "name": "stdout",
     "output_type": "stream",
     "text": [
      "sum of A,B is\n",
      " [[ 6  8]\n",
      " [10 12]]\n",
      "Multiplication of A,B is:\n",
      " [[19 22]\n",
      " [43 50]]\n",
      "Square root of A is:\n",
      " [[1.         1.41421356]\n",
      " [1.73205081 2.        ]]\n",
      "Dot product of Aand v is:\n",
      "[29 67]\n",
      "Sum of each col of A:\n",
      "[4 6]\n",
      "Transpose of a matix B is:\n",
      " [[5 7]\n",
      " [6 8]]\n"
     ]
    }
   ],
   "source": [
    "#given:\n",
    "A=np.array([[1,2],[3,4]])\n",
    "B=np.array([[5,6],[7,8]])\n",
    "v=np.array([9,10])\n",
    "#Add matrices:\n",
    "s=np.add(A,B)\n",
    "print(\"sum of A,B is\\n\",s)\n",
    "#multiply matrices:\n",
    "m=np.dot(A,B)\n",
    "print(\"Multiplication of A,B is:\\n\",m)\n",
    "#Square roor of A:\n",
    "sq=np.sqrt(A)\n",
    "print(\"Square root of A is:\\n\", sq)\n",
    "#Dot product of A and v:\n",
    "print(\"Dot product of Aand v is:\")\n",
    "print(A.dot(v))\n",
    "#sum of each col of A:\n",
    "s=np.sum(A,axis=0)\n",
    "print(\"Sum of each col of A:\")\n",
    "print(s)\n",
    "#Transpose of matrix B:\n",
    "print(\"Transpose of a matix B is:\\n\",np.transpose(B))"
   ]
  }
 ],
 "metadata": {
  "kernelspec": {
   "display_name": "Python 3.9.7 ('base')",
   "language": "python",
   "name": "python3"
  },
  "language_info": {
   "codemirror_mode": {
    "name": "ipython",
    "version": 3
   },
   "file_extension": ".py",
   "mimetype": "text/x-python",
   "name": "python",
   "nbconvert_exporter": "python",
   "pygments_lexer": "ipython3",
   "version": "3.9.7"
  },
  "orig_nbformat": 4,
  "vscode": {
   "interpreter": {
    "hash": "65ea54c170e3a9982d7db2d42da73f78c9d0ca568b8b7dc4612ee4ac3dd1e630"
   }
  }
 },
 "nbformat": 4,
 "nbformat_minor": 2
}
