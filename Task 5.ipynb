{
 "cells": [
  {
   "cell_type": "code",
   "execution_count": 2,
   "metadata": {},
   "outputs": [
    {
     "name": "stdout",
     "output_type": "stream",
     "text": [
      "Original dataframe:\n",
      "   Col1  Col2  Col3  Col4\n",
      "0     1     6     7     7\n",
      "1     2     7    78     5\n",
      "2     3     5    78   707\n",
      "3     4     5    18    60\n",
      "4     5     8    88     4\n",
      "First two rows of dataframe:\n",
      "   Col1  Col2  Col3  Col4\n",
      "a     1     6     7     7\n",
      "b     2     7    78     5\n",
      "Second column of dataframe:\n",
      "a    6\n",
      "b    7\n",
      "c    5\n",
      "d    5\n",
      "e    8\n",
      "Name: Col2, dtype: int64\n",
      "Renaming the third column & adding a column as sum:\n"
     ]
    },
    {
     "data": {
      "text/html": [
       "<div>\n",
       "<style scoped>\n",
       "    .dataframe tbody tr th:only-of-type {\n",
       "        vertical-align: middle;\n",
       "    }\n",
       "\n",
       "    .dataframe tbody tr th {\n",
       "        vertical-align: top;\n",
       "    }\n",
       "\n",
       "    .dataframe thead th {\n",
       "        text-align: right;\n",
       "    }\n",
       "</style>\n",
       "<table border=\"1\" class=\"dataframe\">\n",
       "  <thead>\n",
       "    <tr style=\"text-align: right;\">\n",
       "      <th></th>\n",
       "      <th>Col1</th>\n",
       "      <th>Col2</th>\n",
       "      <th>XYZ</th>\n",
       "      <th>Col4</th>\n",
       "      <th>sum</th>\n",
       "    </tr>\n",
       "  </thead>\n",
       "  <tbody>\n",
       "    <tr>\n",
       "      <th>a</th>\n",
       "      <td>1</td>\n",
       "      <td>6</td>\n",
       "      <td>7</td>\n",
       "      <td>7</td>\n",
       "      <td>21</td>\n",
       "    </tr>\n",
       "    <tr>\n",
       "      <th>b</th>\n",
       "      <td>2</td>\n",
       "      <td>7</td>\n",
       "      <td>78</td>\n",
       "      <td>5</td>\n",
       "      <td>92</td>\n",
       "    </tr>\n",
       "    <tr>\n",
       "      <th>c</th>\n",
       "      <td>3</td>\n",
       "      <td>5</td>\n",
       "      <td>78</td>\n",
       "      <td>707</td>\n",
       "      <td>793</td>\n",
       "    </tr>\n",
       "    <tr>\n",
       "      <th>d</th>\n",
       "      <td>4</td>\n",
       "      <td>5</td>\n",
       "      <td>18</td>\n",
       "      <td>60</td>\n",
       "      <td>87</td>\n",
       "    </tr>\n",
       "    <tr>\n",
       "      <th>e</th>\n",
       "      <td>5</td>\n",
       "      <td>8</td>\n",
       "      <td>88</td>\n",
       "      <td>4</td>\n",
       "      <td>105</td>\n",
       "    </tr>\n",
       "  </tbody>\n",
       "</table>\n",
       "</div>"
      ],
      "text/plain": [
       "   Col1  Col2  XYZ  Col4  sum\n",
       "a     1     6    7     7   21\n",
       "b     2     7   78     5   92\n",
       "c     3     5   78   707  793\n",
       "d     4     5   18    60   87\n",
       "e     5     8   88     4  105"
      ]
     },
     "execution_count": 2,
     "metadata": {},
     "output_type": "execute_result"
    }
   ],
   "source": [
    "import pandas as pd\n",
    "dic={'Col1':[1,2,3,4,5],\n",
    "     'Col2':[6,7,5,5,8],\n",
    "     'Col3':[7,78,78,18,88],\n",
    "     'Col4':[7,5,707,60,4]}\n",
    "print(\"Original dataframe:\")\n",
    "df=pd.DataFrame(dic)\n",
    "print(df)\n",
    "#first two rows:\n",
    "print(\"First two rows of dataframe:\")\n",
    "labels=['a','b','c','d','e']\n",
    "df=pd.DataFrame(dic,index=labels)\n",
    "print(df.iloc[:2])\n",
    "#print second col:\n",
    "print(\"Second column of dataframe:\")\n",
    "print(df['Col2'])\n",
    "#renaming the name of third col:\n",
    "print(\"Renaming the third column & adding a column as sum:\")\n",
    "df.rename(columns={'Col3':'XYZ'},inplace=True)\n",
    "#Add a new col \"sum\":\n",
    "df['sum']=df.sum(axis=1)\n",
    "df\n"
   ]
  }
 ],
 "metadata": {
  "kernelspec": {
   "display_name": "Python 3.9.7 ('base')",
   "language": "python",
   "name": "python3"
  },
  "language_info": {
   "codemirror_mode": {
    "name": "ipython",
    "version": 3
   },
   "file_extension": ".py",
   "mimetype": "text/x-python",
   "name": "python",
   "nbconvert_exporter": "python",
   "pygments_lexer": "ipython3",
   "version": "3.9.7"
  },
  "orig_nbformat": 4,
  "vscode": {
   "interpreter": {
    "hash": "65ea54c170e3a9982d7db2d42da73f78c9d0ca568b8b7dc4612ee4ac3dd1e630"
   }
  }
 },
 "nbformat": 4,
 "nbformat_minor": 2
}
